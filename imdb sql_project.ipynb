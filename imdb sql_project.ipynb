{
  "cells": [
    {
      "cell_type": "code",
      "execution_count": 1,
      "id": "bd853e71",
      "metadata": {
        "_cell_guid": "b1076dfc-b9ad-4769-8c92-a6c4dae69d19",
        "_uuid": "8f2839f25d086af736a60e9eeb907d3b93b6e0e5",
        "execution": {
          "iopub.execute_input": "2023-08-15T12:51:15.921624Z",
          "iopub.status.busy": "2023-08-15T12:51:15.921201Z",
          "iopub.status.idle": "2023-08-15T12:51:15.951213Z",
          "shell.execute_reply": "2023-08-15T12:51:15.949964Z"
        },
        "papermill": {
          "duration": 0.041561,
          "end_time": "2023-08-15T12:51:15.953964",
          "exception": false,
          "start_time": "2023-08-15T12:51:15.912403",
          "status": "completed"
        },
        "tags": [],
        "id": "bd853e71"
      },
      "outputs": [],
      "source": [
        "\n",
        "\n",
        "import numpy as np # linear algebra\n",
        "import pandas as pd # data processing, CSV file I/O (e.g. pd.read_csv)\n",
        "\n"
      ]
    },
    {
      "cell_type": "code",
      "execution_count": 2,
      "id": "7f1a20f6",
      "metadata": {
        "execution": {
          "iopub.execute_input": "2023-08-15T12:51:15.969714Z",
          "iopub.status.busy": "2023-08-15T12:51:15.969295Z",
          "iopub.status.idle": "2023-08-15T12:51:15.974868Z",
          "shell.execute_reply": "2023-08-15T12:51:15.973572Z"
        },
        "papermill": {
          "duration": 0.017045,
          "end_time": "2023-08-15T12:51:15.977524",
          "exception": false,
          "start_time": "2023-08-15T12:51:15.960479",
          "status": "completed"
        },
        "tags": [],
        "id": "7f1a20f6"
      },
      "outputs": [],
      "source": [
        "import sqlite3 as sql #for running sql queries\n",
        "import pandas as pd # for reading them\n"
      ]
    },
    {
      "cell_type": "code",
      "execution_count": 5,
      "id": "14196b5d",
      "metadata": {
        "execution": {
          "iopub.execute_input": "2023-08-15T12:51:15.993545Z",
          "iopub.status.busy": "2023-08-15T12:51:15.993107Z",
          "iopub.status.idle": "2023-08-15T12:51:16.009537Z",
          "shell.execute_reply": "2023-08-15T12:51:16.008316Z"
        },
        "papermill": {
          "duration": 0.027693,
          "end_time": "2023-08-15T12:51:16.012185",
          "exception": false,
          "start_time": "2023-08-15T12:51:15.984492",
          "status": "completed"
        },
        "tags": [],
        "colab": {
          "base_uri": "https://localhost:8080/"
        },
        "id": "14196b5d",
        "outputId": "71bb0a62-5a48-404c-f061-b48f90a9825e"
      },
      "outputs": [
        {
          "output_type": "stream",
          "name": "stdout",
          "text": [
            "Database is connected now! you can start working\n"
          ]
        }
      ],
      "source": [
        "Database = '/content/movies.sqlite' #defining a variable\n",
        "db = sql.connect(Database)\n",
        "print('Database is connected now! you can start working')"
      ]
    },
    {
      "cell_type": "code",
      "execution_count": 6,
      "id": "6d72a6e4",
      "metadata": {
        "execution": {
          "iopub.execute_input": "2023-08-15T12:51:16.027289Z",
          "iopub.status.busy": "2023-08-15T12:51:16.026877Z",
          "iopub.status.idle": "2023-08-15T12:51:16.689050Z",
          "shell.execute_reply": "2023-08-15T12:51:16.687781Z"
        },
        "papermill": {
          "duration": 0.673412,
          "end_time": "2023-08-15T12:51:16.692222",
          "exception": false,
          "start_time": "2023-08-15T12:51:16.018810",
          "status": "completed"
        },
        "tags": [],
        "colab": {
          "base_uri": "https://localhost:8080/"
        },
        "id": "6d72a6e4",
        "outputId": "3960ff52-56d3-4046-901d-1f0b18be390d"
      },
      "outputs": [
        {
          "output_type": "stream",
          "name": "stdout",
          "text": [
            "         id                            original_title     budget  popularity  \\\n",
            "0     43597                                    Avatar  237000000         150   \n",
            "1     43598  Pirates of the Caribbean: At World's End  300000000         139   \n",
            "2     43599                                   Spectre  245000000         107   \n",
            "3     43600                     The Dark Knight Rises  250000000         112   \n",
            "4     43601                               John Carter  260000000          43   \n",
            "...     ...                                       ...        ...         ...   \n",
            "4768  48395                               El Mariachi     220000          14   \n",
            "4769  48396                                 Newlyweds       9000           0   \n",
            "4770  48397                 Signed, Sealed, Delivered          0           1   \n",
            "4771  48398                          Shanghai Calling          0           0   \n",
            "4772  48399                         My Date with Drew          0           1   \n",
            "\n",
            "     release_date     revenue                                     title  \\\n",
            "0      2009-12-10  2787965087                                    Avatar   \n",
            "1      2007-05-19   961000000  Pirates of the Caribbean: At World's End   \n",
            "2      2015-10-26   880674609                                   Spectre   \n",
            "3      2012-07-16  1084939099                     The Dark Knight Rises   \n",
            "4      2012-03-07   284139100                               John Carter   \n",
            "...           ...         ...                                       ...   \n",
            "4768   1992-09-04     2040920                               El Mariachi   \n",
            "4769   2011-12-26           0                                 Newlyweds   \n",
            "4770   2013-10-13           0                 Signed, Sealed, Delivered   \n",
            "4771   2012-05-03           0                          Shanghai Calling   \n",
            "4772   2005-08-05           0                         My Date with Drew   \n",
            "\n",
            "      vote_average  vote_count  \\\n",
            "0              7.2       11800   \n",
            "1              6.9        4500   \n",
            "2              6.3        4466   \n",
            "3              7.6        9106   \n",
            "4              6.1        2124   \n",
            "...            ...         ...   \n",
            "4768           6.6         238   \n",
            "4769           5.9           5   \n",
            "4770           7.0           6   \n",
            "4771           5.7           7   \n",
            "4772           6.3          16   \n",
            "\n",
            "                                               overview  \\\n",
            "0     In the 22nd century, a paraplegic Marine is di...   \n",
            "1     Captain Barbossa, long believed to be dead, ha...   \n",
            "2     A cryptic message from Bond’s past sends him o...   \n",
            "3     Following the death of District Attorney Harve...   \n",
            "4     John Carter is a war-weary, former military ca...   \n",
            "...                                                 ...   \n",
            "4768  El Mariachi just wants to play his guitar and ...   \n",
            "4769  A newlywed couple's honeymoon is upended by th...   \n",
            "4770  \"Signed, Sealed, Delivered\" introduces a dedic...   \n",
            "4771  When ambitious New York attorney Sam is sent t...   \n",
            "4772  Ever since the second grade when he first saw ...   \n",
            "\n",
            "                                                tagline     uid  director_id  \n",
            "0                           Enter the World of Pandora.   19995         4762  \n",
            "1        At the end of the world, the adventure begins.     285         4763  \n",
            "2                                 A Plan No One Escapes  206647         4764  \n",
            "3                                       The Legend Ends   49026         4765  \n",
            "4                  Lost in our world, found in another.   49529         4766  \n",
            "...                                                 ...     ...          ...  \n",
            "4768  He didn't come looking for trouble, but troubl...    9367         5097  \n",
            "4769  A newlywed couple's honeymoon is upended by th...   72766         6485  \n",
            "4770                                               None  231617         7108  \n",
            "4771                           A New Yorker in Shanghai  126186         7109  \n",
            "4772                                               None   25975         7110  \n",
            "\n",
            "[4773 rows x 13 columns]\n"
          ]
        }
      ],
      "source": [
        "#Query1 : GET ALL THE DATA FROM MOVIES\n",
        "Q1 = \"SELECT * FROM MOVIES\"\n",
        "r1 = pd.read_sql(Q1,db)\n",
        "print(r1)\n"
      ]
    },
    {
      "cell_type": "code",
      "execution_count": null,
      "id": "58e3ddc8",
      "metadata": {
        "execution": {
          "iopub.execute_input": "2023-08-15T12:51:16.707739Z",
          "iopub.status.busy": "2023-08-15T12:51:16.707295Z",
          "iopub.status.idle": "2023-08-15T12:51:16.745116Z",
          "shell.execute_reply": "2023-08-15T12:51:16.742722Z"
        },
        "papermill": {
          "duration": 0.049045,
          "end_time": "2023-08-15T12:51:16.748219",
          "exception": false,
          "start_time": "2023-08-15T12:51:16.699174",
          "status": "completed"
        },
        "tags": [],
        "id": "58e3ddc8",
        "outputId": "c723f784-4684-436a-e43e-238ba84267d0"
      },
      "outputs": [
        {
          "name": "stdout",
          "output_type": "stream",
          "text": [
            "                   name    id  gender      uid department\n",
            "0         James Cameron  4762       2     2710  Directing\n",
            "1        Gore Verbinski  4763       2     1704  Directing\n",
            "2            Sam Mendes  4764       2       39  Directing\n",
            "3     Christopher Nolan  4765       2      525  Directing\n",
            "4        Andrew Stanton  4766       2        7  Directing\n",
            "...                 ...   ...     ...      ...        ...\n",
            "2344      Shane Carruth  7106       2    76624  Directing\n",
            "2345   Neill Dela Llana  7107       0  1174437  Directing\n",
            "2346        Scott Smith  7108       0  1219158  Directing\n",
            "2347        Daniel Hsia  7109       2   208138  Directing\n",
            "2348   Brian Herzlinger  7110       2    85563  Directing\n",
            "\n",
            "[2349 rows x 5 columns]\n"
          ]
        }
      ],
      "source": [
        "#Query2: Get All the data from directors\n",
        "Q2 = \"Select * from directors\"\n",
        "r2 = pd.read_sql(Q2,db)\n",
        "print(r2)"
      ]
    },
    {
      "cell_type": "code",
      "execution_count": null,
      "id": "e49f458d",
      "metadata": {
        "execution": {
          "iopub.execute_input": "2023-08-15T12:51:16.764534Z",
          "iopub.status.busy": "2023-08-15T12:51:16.764142Z",
          "iopub.status.idle": "2023-08-15T12:51:17.280370Z",
          "shell.execute_reply": "2023-08-15T12:51:17.278846Z"
        },
        "papermill": {
          "duration": 0.527742,
          "end_time": "2023-08-15T12:51:17.282924",
          "exception": false,
          "start_time": "2023-08-15T12:51:16.755182",
          "status": "completed"
        },
        "tags": [],
        "id": "e49f458d",
        "outputId": "5222ac3e-26dc-465e-b894-199567bedd1c"
      },
      "outputs": [
        {
          "name": "stdout",
          "output_type": "stream",
          "text": [
            "   no_of_movies\n",
            "0          4773\n"
          ]
        }
      ],
      "source": [
        "#Query3: CHECK HOW MANY MOVIES ARE PRESENT IN IMDB\n",
        "Q3 =\"SELECT COUNT(*) as no_of_movies FROM movies\"\n",
        "r3 = pd.read_sql(Q3,db)\n",
        "print(r3)"
      ]
    },
    {
      "cell_type": "code",
      "execution_count": null,
      "id": "0b984a32",
      "metadata": {
        "execution": {
          "iopub.execute_input": "2023-08-15T12:51:17.301089Z",
          "iopub.status.busy": "2023-08-15T12:51:17.300632Z",
          "iopub.status.idle": "2023-08-15T12:51:17.327155Z",
          "shell.execute_reply": "2023-08-15T12:51:17.325490Z"
        },
        "papermill": {
          "duration": 0.038235,
          "end_time": "2023-08-15T12:51:17.329882",
          "exception": false,
          "start_time": "2023-08-15T12:51:17.291647",
          "status": "completed"
        },
        "tags": [],
        "id": "0b984a32",
        "outputId": "4d914266-42ed-4ab1-facc-cc3eab4ce115"
      },
      "outputs": [
        {
          "name": "stdout",
          "output_type": "stream",
          "text": [
            "            name    id  gender    uid department\n",
            "0  James Cameron  4762       2   2710  Directing\n",
            "1       John Woo  4893       2  11401  Directing\n",
            "2     Luc Besson  4949       2     59  Directing\n"
          ]
        }
      ],
      "source": [
        "#Query4: FIND THESE 3 DIRECTORS: JAMES CAMERON ; LUC BESSON ; JOHN WOO\n",
        "Q4 = \"SELECT * FROM directors WHERE name in( 'James Cameron' , 'Luc Besson' ,'John Woo')\"\n",
        "r4 = pd.read_sql(Q4,db)\n",
        "print(r4)"
      ]
    },
    {
      "cell_type": "code",
      "execution_count": null,
      "id": "6d734824",
      "metadata": {
        "execution": {
          "iopub.execute_input": "2023-08-15T12:51:17.345581Z",
          "iopub.status.busy": "2023-08-15T12:51:17.345202Z",
          "iopub.status.idle": "2023-08-15T12:51:17.355996Z",
          "shell.execute_reply": "2023-08-15T12:51:17.354802Z"
        },
        "papermill": {
          "duration": 0.02149,
          "end_time": "2023-08-15T12:51:17.358413",
          "exception": false,
          "start_time": "2023-08-15T12:51:17.336923",
          "status": "completed"
        },
        "tags": [],
        "id": "6d734824",
        "outputId": "d70c298e-97a1-46b6-d6b3-4b94706179e1"
      },
      "outputs": [
        {
          "name": "stdout",
          "output_type": "stream",
          "text": [
            "                 name\n",
            "0    Steven Spielberg\n",
            "1   Steven Soderbergh\n",
            "2        Steven Brill\n",
            "3     Steven Zaillian\n",
            "4        Steven Quale\n",
            "5       Steven Seagal\n",
            "6  Steven E. de Souza\n",
            "7    Steven Shainberg\n",
            "8    Steven R. Monroe\n"
          ]
        }
      ],
      "source": [
        "#Query5: FIND ALL DIRECTORS WITH NAME STARTING WITH STEVEN.\n",
        "Q5 =\" SELECT name FROM directors WHERE name LIKE 'Steven%'\"\n",
        "r5 = pd.read_sql(Q5, db)\n",
        "print(r5)"
      ]
    },
    {
      "cell_type": "code",
      "execution_count": null,
      "id": "636dbe51",
      "metadata": {
        "execution": {
          "iopub.execute_input": "2023-08-15T12:51:17.374317Z",
          "iopub.status.busy": "2023-08-15T12:51:17.373917Z",
          "iopub.status.idle": "2023-08-15T12:51:17.384585Z",
          "shell.execute_reply": "2023-08-15T12:51:17.383435Z"
        },
        "papermill": {
          "duration": 0.021343,
          "end_time": "2023-08-15T12:51:17.386852",
          "exception": false,
          "start_time": "2023-08-15T12:51:17.365509",
          "status": "completed"
        },
        "tags": [],
        "id": "636dbe51",
        "outputId": "a70cb783-af4b-407a-bcf1-b3d628c1ab9c"
      },
      "outputs": [
        {
          "name": "stdout",
          "output_type": "stream",
          "text": [
            "   No_of_Female\n",
            "0           150\n"
          ]
        }
      ],
      "source": [
        "#Query6 : COUNT ALL THE FEMALE DIRECTORS\n",
        "Q6 = \"\"\"SELECT COUNT(gender) as No_of_Female FROM directors\n",
        "        WHERE gender == 1\"\"\"\n",
        "r6 = pd.read_sql(Q6,db)\n",
        "print(r6)"
      ]
    },
    {
      "cell_type": "code",
      "execution_count": null,
      "id": "7385f3fb",
      "metadata": {
        "execution": {
          "iopub.execute_input": "2023-08-15T12:51:17.403357Z",
          "iopub.status.busy": "2023-08-15T12:51:17.402322Z",
          "iopub.status.idle": "2023-08-15T12:51:17.413608Z",
          "shell.execute_reply": "2023-08-15T12:51:17.412292Z"
        },
        "papermill": {
          "duration": 0.022126,
          "end_time": "2023-08-15T12:51:17.416111",
          "exception": false,
          "start_time": "2023-08-15T12:51:17.393985",
          "status": "completed"
        },
        "tags": [],
        "id": "7385f3fb",
        "outputId": "82f59fd9-14c3-44f0-d2fe-dd953ab2d136"
      },
      "outputs": [
        {
          "name": "stdout",
          "output_type": "stream",
          "text": [
            "     id          name\n",
            "0  5174  Karyn Kusama\n"
          ]
        }
      ],
      "source": [
        "#Query7 : FIND THE NAME OF THE 10TH FIRST WOMEN DIRECTOR\n",
        "Q7 = \"\"\"SELECT id, name FROM directors WHERE gender == 1\n",
        "        ORDER BY id\n",
        "        LIMIT 1\n",
        "        OFFSET 10\"\"\"\n",
        "r7 = pd.read_sql(Q7,db)\n",
        "print(r7)"
      ]
    },
    {
      "cell_type": "code",
      "execution_count": null,
      "id": "37e0f0f4",
      "metadata": {
        "execution": {
          "iopub.execute_input": "2023-08-15T12:51:17.432823Z",
          "iopub.status.busy": "2023-08-15T12:51:17.432177Z",
          "iopub.status.idle": "2023-08-15T12:51:17.879784Z",
          "shell.execute_reply": "2023-08-15T12:51:17.878585Z"
        },
        "papermill": {
          "duration": 0.459608,
          "end_time": "2023-08-15T12:51:17.883011",
          "exception": false,
          "start_time": "2023-08-15T12:51:17.423403",
          "status": "completed"
        },
        "tags": [],
        "id": "37e0f0f4",
        "outputId": "e184e72f-524c-40e1-a8a6-6861a1ad8e8d"
      },
      "outputs": [
        {
          "name": "stdout",
          "output_type": "stream",
          "text": [
            "  original_title\n",
            "0        Minions\n",
            "1   Interstellar\n",
            "2       Deadpool\n"
          ]
        }
      ],
      "source": [
        "#Query8 : WHAT ARE THE 3 MOST POPULAR MOVIES?\n",
        "Q8 = \"\"\"SELECT original_title FROM movies\n",
        "        ORDER BY popularity desc\n",
        "        LIMIT 3\"\"\"\n",
        "r8 = pd.read_sql(Q8, db)\n",
        "print(r8)"
      ]
    },
    {
      "cell_type": "code",
      "execution_count": null,
      "id": "4fc0768a",
      "metadata": {
        "execution": {
          "iopub.execute_input": "2023-08-15T12:51:17.899939Z",
          "iopub.status.busy": "2023-08-15T12:51:17.899028Z",
          "iopub.status.idle": "2023-08-15T12:51:18.377730Z",
          "shell.execute_reply": "2023-08-15T12:51:18.376260Z"
        },
        "papermill": {
          "duration": 0.490176,
          "end_time": "2023-08-15T12:51:18.380587",
          "exception": false,
          "start_time": "2023-08-15T12:51:17.890411",
          "status": "completed"
        },
        "tags": [],
        "id": "4fc0768a",
        "outputId": "76f5eca5-27cf-4bc3-b5f1-70b654be8ea7"
      },
      "outputs": [
        {
          "name": "stdout",
          "output_type": "stream",
          "text": [
            "                                original_title\n",
            "0  Pirates of the Caribbean: On Stranger Tides\n",
            "1     Pirates of the Caribbean: At World's End\n",
            "2                      Avengers: Age of Ultron\n"
          ]
        }
      ],
      "source": [
        "#Query9 : WHAT ARE THE 3 MOST BANKABLE MOVIES?\n",
        "Q9 = \"\"\"SELECT original_title FROM movies\n",
        "        ORDER BY budget DESC\n",
        "        LIMIT 3\"\"\"\n",
        "r9 = pd.read_sql(Q9, db)\n",
        "print(r9)"
      ]
    },
    {
      "cell_type": "code",
      "execution_count": null,
      "id": "e26292db",
      "metadata": {
        "execution": {
          "iopub.execute_input": "2023-08-15T12:51:18.397246Z",
          "iopub.status.busy": "2023-08-15T12:51:18.396823Z",
          "iopub.status.idle": "2023-08-15T12:51:18.836033Z",
          "shell.execute_reply": "2023-08-15T12:51:18.834661Z"
        },
        "papermill": {
          "duration": 0.450452,
          "end_time": "2023-08-15T12:51:18.838576",
          "exception": false,
          "start_time": "2023-08-15T12:51:18.388124",
          "status": "completed"
        },
        "tags": [],
        "id": "e26292db",
        "outputId": "3611aa58-8bbe-4942-c677-975705a26872"
      },
      "outputs": [
        {
          "name": "stdout",
          "output_type": "stream",
          "text": [
            "  original_title  vote_average\n",
            "0      Sardaarji           9.5\n"
          ]
        }
      ],
      "source": [
        "#Query10 : WHAT IS THE MOST AWARDED AVERAGE VOTE SINCE JAN-1-2000?\n",
        "Q10 = \"\"\"SELECT original_title, vote_average FROM movies\n",
        "         WHERE release_date > '2000-01-01'\n",
        "         ORDER BY vote_average DESC\n",
        "         LIMIT 1 \"\"\"\n",
        "r10 = pd.read_sql(Q10, db)\n",
        "print(r10)"
      ]
    },
    {
      "cell_type": "code",
      "execution_count": null,
      "id": "086f0d38",
      "metadata": {
        "execution": {
          "iopub.execute_input": "2023-08-15T12:51:18.856307Z",
          "iopub.status.busy": "2023-08-15T12:51:18.855845Z",
          "iopub.status.idle": "2023-08-15T12:51:19.316959Z",
          "shell.execute_reply": "2023-08-15T12:51:19.315364Z"
        },
        "papermill": {
          "duration": 0.472868,
          "end_time": "2023-08-15T12:51:19.319704",
          "exception": false,
          "start_time": "2023-08-15T12:51:18.846836",
          "status": "completed"
        },
        "tags": [],
        "id": "086f0d38",
        "outputId": "65fdf8d1-55b3-4efc-ea69-e17efd146644"
      },
      "outputs": [
        {
          "name": "stdout",
          "output_type": "stream",
          "text": [
            "  original_title\n",
            "0          Brave\n"
          ]
        }
      ],
      "source": [
        "#Query11: WHICH MOVIES WERE DIRECTED BY BRENDA CHAPMAN?\n",
        "Q11 = \"\"\"SELECT m.original_title FROM movies as m\n",
        "         JOIN directors as d\n",
        "         ON m.director_id = d.id\n",
        "         WHERE name == 'Brenda Chapman'\"\"\"\n",
        "r11 = pd.read_sql(Q11, db)\n",
        "print(r11)"
      ]
    },
    {
      "cell_type": "code",
      "execution_count": null,
      "id": "1bad93f0",
      "metadata": {
        "execution": {
          "iopub.execute_input": "2023-08-15T12:51:19.337978Z",
          "iopub.status.busy": "2023-08-15T12:51:19.336714Z",
          "iopub.status.idle": "2023-08-15T12:51:19.790494Z",
          "shell.execute_reply": "2023-08-15T12:51:19.789131Z"
        },
        "papermill": {
          "duration": 0.467249,
          "end_time": "2023-08-15T12:51:19.794635",
          "exception": false,
          "start_time": "2023-08-15T12:51:19.327386",
          "status": "completed"
        },
        "tags": [],
        "id": "1bad93f0",
        "outputId": "353e3d11-d085-4d33-a872-6ca88ce07684"
      },
      "outputs": [
        {
          "name": "stdout",
          "output_type": "stream",
          "text": [
            "                              original_title  popularity\n",
            "0                                     Avatar         150\n",
            "1   Pirates of the Caribbean: At World's End         139\n",
            "2                                    Spectre         107\n",
            "3                      The Dark Knight Rises         112\n",
            "4                               Spider-Man 3         115\n",
            "..                                       ...         ...\n",
            "86                              Pulp Fiction         121\n",
            "87                             The Godfather         143\n",
            "88           One Flew Over the Cuckoo's Nest         127\n",
            "89                                  Whiplash         192\n",
            "90                                It Follows         100\n",
            "\n",
            "[91 rows x 2 columns]\n"
          ]
        }
      ],
      "source": [
        "#Query12 : NAME ALL THE MOVIES WITH POPULARITY > 99\n",
        "Q12 = \"\"\"SELECT original_title, popularity FROM movies\n",
        "         WHERE popularity > 99\"\"\"\n",
        "r12 = pd.read_sql(Q12, db)\n",
        "print(r12)"
      ]
    },
    {
      "cell_type": "code",
      "execution_count": null,
      "id": "45e2d780",
      "metadata": {
        "execution": {
          "iopub.execute_input": "2023-08-15T12:51:19.812776Z",
          "iopub.status.busy": "2023-08-15T12:51:19.811768Z",
          "iopub.status.idle": "2023-08-15T12:51:20.301579Z",
          "shell.execute_reply": "2023-08-15T12:51:20.300680Z"
        },
        "papermill": {
          "duration": 0.501736,
          "end_time": "2023-08-15T12:51:20.304568",
          "exception": false,
          "start_time": "2023-08-15T12:51:19.802832",
          "status": "completed"
        },
        "tags": [],
        "id": "45e2d780",
        "outputId": "6948691f-9287-4e3a-c468-58eac1881236"
      },
      "outputs": [
        {
          "name": "stdout",
          "output_type": "stream",
          "text": [
            "     release_date                original_title\n",
            "0      2009-12-10                        Avatar\n",
            "1      2015-10-26                       Spectre\n",
            "2      2012-07-16         The Dark Knight Rises\n",
            "3      2012-03-07                   John Carter\n",
            "4      2010-11-24                       Tangled\n",
            "...           ...                           ...\n",
            "1672   2011-10-26      All Superheroes Must Die\n",
            "1673   2012-01-20  Sanctuary: Quite a Conundrum\n",
            "1674   2011-12-26                     Newlyweds\n",
            "1675   2013-10-13     Signed, Sealed, Delivered\n",
            "1676   2012-05-03              Shanghai Calling\n",
            "\n",
            "[1677 rows x 2 columns]\n"
          ]
        }
      ],
      "source": [
        "#Query13 : FIND OUT ALL THE MOVIES THAT WERE RELEASED AFTER 2011-01-01\n",
        "Q13 = \"\"\"SELECT release_date,original_title FROM movies\n",
        "         WHERE release_date > 2011-01-01\"\"\"\n",
        "r13 = pd.read_sql(Q13, db)\n",
        "print(r13)"
      ]
    },
    {
      "cell_type": "code",
      "execution_count": null,
      "id": "f5cb430e",
      "metadata": {
        "papermill": {
          "duration": 0.008299,
          "end_time": "2023-08-15T12:51:20.320741",
          "exception": false,
          "start_time": "2023-08-15T12:51:20.312442",
          "status": "completed"
        },
        "tags": [],
        "id": "f5cb430e"
      },
      "outputs": [],
      "source": []
    }
  ],
  "metadata": {
    "kernelspec": {
      "display_name": "Python 3",
      "language": "python",
      "name": "python3"
    },
    "language_info": {
      "codemirror_mode": {
        "name": "ipython",
        "version": 3
      },
      "file_extension": ".py",
      "mimetype": "text/x-python",
      "name": "python",
      "nbconvert_exporter": "python",
      "pygments_lexer": "ipython3",
      "version": "3.10.10"
    },
    "papermill": {
      "default_parameters": {},
      "duration": 20.467677,
      "end_time": "2023-08-15T12:51:21.251613",
      "environment_variables": {},
      "exception": null,
      "input_path": "__notebook__.ipynb",
      "output_path": "__notebook__.ipynb",
      "parameters": {},
      "start_time": "2023-08-15T12:51:00.783936",
      "version": "2.4.0"
    },
    "colab": {
      "provenance": []
    }
  },
  "nbformat": 4,
  "nbformat_minor": 5
}